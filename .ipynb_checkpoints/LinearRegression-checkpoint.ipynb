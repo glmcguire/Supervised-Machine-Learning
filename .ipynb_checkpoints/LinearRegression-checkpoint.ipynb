{
 "cells": [
  {
   "cell_type": "markdown",
   "metadata": {},
   "source": [
    "# Linear Regression\n",
    "\n",
    "Supervised learning algorithm:\n",
    "* Given the right answer for each example in the data\n",
    "\n",
    "Regression problem:\n",
    "* Predict a real world outcome\n",
    "\n",
    "Notation:\n",
    "\n",
    "    m = Number of trainging examples\n",
    "    x = input variables/features\n",
    "    y = output variable/ target variable\n",
    "    (x,y) = single training example\n",
    "    (x^i, y^i) = ith training example\n",
    "    \n",
    "    \n",
    "Training Set --> Learning alorithm --> h (hypothesis)\n",
    "\n",
    "X --> h --> y\n",
    "\n",
    "h maps from x's to y's\n",
    "\n",
    "### How do we represent h? \n",
    "\n",
    "$$h_{\\theta}(x) = \\theta_{0} + \\theta_{1}x$$\n",
    "\n",
    "Shorthand : $$h(x)$$\n",
    "\n",
    "\n",
    "This is an example of **Linear regression with one variable or Univariate Linear Regression**\n",
    "\n",
    "\n",
    "\n",
    "## Cost Function\n",
    "\n",
    "Hypothesis: $$h_{\\theta}(x) = \\theta_{0} + \\theta_{1}x$$\n",
    "\n",
    "Parameters: $$\\theta_{i}'s$$\n",
    "\n",
    "#### How do we choose the parameters?\n",
    "\n",
    "Idea: Choose $$\\theta_{0},\\theta_{1}$$ so that $$h_{\\theta}(x)$$ is close to y for our training examples (x,y)\n",
    "\n",
    "minimize $$\\theta_{0}, \\theta_{1}$$\n",
    "\n",
    "by $$\\frac{1}{2m}\\sum_{i=1}^{m}(h_{\\theta}(x^i) - y^i)^2$$\n",
    "\n",
    "\n",
    "Therefore, by convention this formula is: $$J(\\theta_{0},\\theta_{1})=\\frac{1}{2m}\\sum_{i=1}^{m}(h_{\\theta}(x^i) - y^i)^2$$\n",
    "\n",
    "\n",
    "This is known as the **Cost Function or Squared Error Function**\n",
    "\n",
    "\n",
    "\n",
    "\n",
    "\n",
    "\n"
   ]
  },
  {
   "cell_type": "code",
   "execution_count": null,
   "metadata": {
    "collapsed": true
   },
   "outputs": [],
   "source": []
  }
 ],
 "metadata": {
  "kernelspec": {
   "display_name": "Octave",
   "language": "octave",
   "name": "octave"
  },
  "language_info": {
   "file_extension": ".m",
   "help_links": [
    {
     "text": "GNU Octave",
     "url": "https://www.gnu.org/software/octave/support.html"
    },
    {
     "text": "Octave Kernel",
     "url": "https://github.com/Calysto/octave_kernel"
    },
    {
     "text": "MetaKernel Magics",
     "url": "https://github.com/calysto/metakernel/blob/master/metakernel/magics/README.md"
    }
   ],
   "mimetype": "text/x-octave",
   "name": "octave",
   "version": "4.0.0"
  }
 },
 "nbformat": 4,
 "nbformat_minor": 2
}
