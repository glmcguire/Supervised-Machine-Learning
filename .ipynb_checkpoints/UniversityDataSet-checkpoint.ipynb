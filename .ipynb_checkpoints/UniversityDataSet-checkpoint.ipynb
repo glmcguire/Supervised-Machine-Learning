{
 "cells": [
  {
   "cell_type": "code",
   "execution_count": 2,
   "metadata": {
    "collapsed": false
   },
   "outputs": [
    {
     "name": "stdout",
     "output_type": "stream",
     "text": [
      "Python: 2.7.13 |Anaconda 4.3.0 (64-bit)| (default, Dec 20 2016, 23:09:15) \n",
      "[GCC 4.4.7 20120313 (Red Hat 4.4.7-1)]\n",
      "scipy: 0.18.1\n",
      "numpy: 1.11.3\n",
      "matplotlib: 2.0.0\n",
      "pandas: 0.19.2\n",
      "sklearn: 0.18.1\n",
      "seaborn: 0.7.1\n"
     ]
    }
   ],
   "source": [
    "# Python version\n",
    "import sys\n",
    "print('Python: {}'.format(sys.version))\n",
    "# scipy\n",
    "import scipy\n",
    "print('scipy: {}'.format(scipy.__version__))\n",
    "# numpy\n",
    "import numpy\n",
    "print('numpy: {}'.format(numpy.__version__))\n",
    "# matplotlib\n",
    "import matplotlib\n",
    "print('matplotlib: {}'.format(matplotlib.__version__))\n",
    "# pandas\n",
    "import pandas\n",
    "print('pandas: {}'.format(pandas.__version__))\n",
    "# scikit-learn\n",
    "import sklearn\n",
    "print('sklearn: {}'.format(sklearn.__version__))\n",
    "# seaborn\n",
    "import seaborn\n",
    "print('seaborn: {}'.format(seaborn.__version__))"
   ]
  },
  {
   "cell_type": "code",
   "execution_count": 3,
   "metadata": {
    "collapsed": true
   },
   "outputs": [],
   "source": [
    "#Load libraries\n",
    "import pandas\n",
    "from pandas.tools.plotting import scatter_matrix\n",
    "import matplotlib.pyplot as plt\n",
    "from sklearn import model_selection\n",
    "from sklearn.metrics import classification_report\n",
    "from sklearn.metrics import confusion_matrix\n",
    "from sklearn.metrics import accuracy_score\n",
    "from sklearn.linear_model import LogisticRegression\n",
    "from sklearn.tree import DecisionTreeClassifier\n",
    "from sklearn.neighbors import KNeighborsClassifier\n",
    "from sklearn.discriminant_analysis import LinearDiscriminantAnalysis\n",
    "from sklearn.naive_bayes import GaussianNB\n",
    "from sklearn.svm import SVC\n",
    "import seaborn as sns\n",
    "%matplotlib inline"
   ]
  },
  {
   "cell_type": "code",
   "execution_count": 4,
   "metadata": {
    "collapsed": true
   },
   "outputs": [],
   "source": [
    "# Load dataset\n",
    "url = \"https://archive.ics.uci.edu/ml/machine-learning-databases/university/university.data\"\n",
    "names = ['University-name', 'State', 'location', 'Control', 'number-of-students','male:female(ratio)','student:faculty(ratio)','sat-verbal','sat-math','expenses','percent-financial-aid','number-of-applicants','percent-admittance','percent-enrolled','academics','social','quality-of-life','academic-emphasis']\n",
    "dataset = pandas.read_csv(url, names=names)"
   ]
  },
  {
   "cell_type": "code",
   "execution_count": 6,
   "metadata": {
    "collapsed": false
   },
   "outputs": [
    {
     "name": "stdout",
     "output_type": "stream",
     "text": [
      "       Control  number-of-students  male:female(ratio)  \\\n",
      "count      0.0                 0.0                 0.0   \n",
      "mean       NaN                 NaN                 NaN   \n",
      "std        NaN                 NaN                 NaN   \n",
      "min        NaN                 NaN                 NaN   \n",
      "25%        NaN                 NaN                 NaN   \n",
      "50%        NaN                 NaN                 NaN   \n",
      "75%        NaN                 NaN                 NaN   \n",
      "max        NaN                 NaN                 NaN   \n",
      "\n",
      "       student:faculty(ratio)  sat-verbal  sat-math  expenses  \\\n",
      "count                     0.0         0.0       0.0       0.0   \n",
      "mean                      NaN         NaN       NaN       NaN   \n",
      "std                       NaN         NaN       NaN       NaN   \n",
      "min                       NaN         NaN       NaN       NaN   \n",
      "25%                       NaN         NaN       NaN       NaN   \n",
      "50%                       NaN         NaN       NaN       NaN   \n",
      "75%                       NaN         NaN       NaN       NaN   \n",
      "max                       NaN         NaN       NaN       NaN   \n",
      "\n",
      "       percent-financial-aid  number-of-applicants  percent-admittance  \\\n",
      "count                    0.0                   0.0                 0.0   \n",
      "mean                     NaN                   NaN                 NaN   \n",
      "std                      NaN                   NaN                 NaN   \n",
      "min                      NaN                   NaN                 NaN   \n",
      "25%                      NaN                   NaN                 NaN   \n",
      "50%                      NaN                   NaN                 NaN   \n",
      "75%                      NaN                   NaN                 NaN   \n",
      "max                      NaN                   NaN                 NaN   \n",
      "\n",
      "       percent-enrolled  academics  social  quality-of-life  academic-emphasis  \n",
      "count               0.0        0.0     0.0              0.0                0.0  \n",
      "mean                NaN        NaN     NaN              NaN                NaN  \n",
      "std                 NaN        NaN     NaN              NaN                NaN  \n",
      "min                 NaN        NaN     NaN              NaN                NaN  \n",
      "25%                 NaN        NaN     NaN              NaN                NaN  \n",
      "50%                 NaN        NaN     NaN              NaN                NaN  \n",
      "75%                 NaN        NaN     NaN              NaN                NaN  \n",
      "max                 NaN        NaN     NaN              NaN                NaN  \n"
     ]
    }
   ],
   "source": [
    "#desciptions\n",
    "print(dataset.describe())"
   ]
  },
  {
   "cell_type": "code",
   "execution_count": null,
   "metadata": {
    "collapsed": true
   },
   "outputs": [],
   "source": []
  }
 ],
 "metadata": {
  "kernelspec": {
   "display_name": "Python 2",
   "language": "python",
   "name": "python2"
  },
  "language_info": {
   "codemirror_mode": {
    "name": "ipython",
    "version": 2
   },
   "file_extension": ".py",
   "mimetype": "text/x-python",
   "name": "python",
   "nbconvert_exporter": "python",
   "pygments_lexer": "ipython2",
   "version": "2.7.13"
  }
 },
 "nbformat": 4,
 "nbformat_minor": 2
}
